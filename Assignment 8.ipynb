{
 "cells": [
  {
   "cell_type": "code",
   "execution_count": 2,
   "id": "a2722252-69e9-4fbd-8732-3b28477b1619",
   "metadata": {},
   "outputs": [
    {
     "name": "stdin",
     "output_type": "stream",
     "text": [
      "Please enter your password ? wrmn2$@^\n"
     ]
    },
    {
     "name": "stdout",
     "output_type": "stream",
     "text": [
      "Invalid Password\n"
     ]
    }
   ],
   "source": [
    "# Question 1 \n",
    "\"\"\"You are writing code for a company. The requirement of the company is that you create a python function that\n",
    "will check whether the password entered by the user is correct or not.The function should take the password as input\n",
    "and return the string \"Valid Password\" if the entered password follows the below given password guidelines else\n",
    "it should return \"Invalid Password\".\n",
    "\n",
    "Note:\n",
    "1. The password should contain at least two uppercase letters and at least two lowercase letters.\n",
    "2. The password should contain at least a number and three special characters.\n",
    "3. The length of the password should be 10 characters long.\"\"\"\n",
    "\n",
    "import string\n",
    "\n",
    "def check_password(password):\n",
    "    \n",
    "    if len(password) >= 10:\n",
    "        count_lower_case = 0\n",
    "        count_upper_case = 0\n",
    "        count_special = 0\n",
    "        count_int = 0\n",
    "        for word in password:\n",
    "            if word in string.ascii_lowercase:\n",
    "                count_lower_case += 1\n",
    "                continue\n",
    "            elif word in string.ascii_uppercase:\n",
    "                count_upper_case += 1\n",
    "                continue\n",
    "            elif word in string.punctuation:\n",
    "                count_special += 1\n",
    "                continue\n",
    "            elif word in string.octdigits:\n",
    "                count_int += 1\n",
    "                continue\n",
    "        if count_lower_case >= 2 or count_upper_case >= 2 or count_special >= 3 or count_int >= 1:\n",
    "            return \"Valid Password\"\n",
    "        else :\n",
    "            return \"Invalid Password\"\n",
    "    else :\n",
    "        return \"Invalid Password\" \n",
    "user_input = input(\"Please enter your password ?\")\n",
    "print(check_password(user_input))\n",
    "    \n",
    "                \n"
   ]
  },
  {
   "cell_type": "code",
   "execution_count": 3,
   "id": "6b8c8bc6-391a-47e4-b960-9ac3184f23ad",
   "metadata": {},
   "outputs": [
    {
     "name": "stdin",
     "output_type": "stream",
     "text": [
      "Please enter your string. ink\n"
     ]
    },
    {
     "name": "stdout",
     "output_type": "stream",
     "text": [
      "False\n"
     ]
    }
   ],
   "source": [
    "# Question 2\n",
    "# a. Check if the string starts with a particular letter.\n",
    "user_input = input(\"Please enter your string.\")\n",
    "check_correct = lambda input: True if input[0] == \"I\" else False\n",
    "print(check_correct(user_input))"
   ]
  },
  {
   "cell_type": "code",
   "execution_count": 4,
   "id": "d536a86f-b222-4778-9da2-bad6de5249d1",
   "metadata": {},
   "outputs": [
    {
     "name": "stdin",
     "output_type": "stream",
     "text": [
      "Please enter your string. anc567\n"
     ]
    },
    {
     "name": "stdout",
     "output_type": "stream",
     "text": [
      "False\n"
     ]
    }
   ],
   "source": [
    "#b. Check if the string is numeric\n",
    "user_input = input(\"Please enter your string.\")\n",
    "check_correct = lambda input: True if input.isnumeric() else False\n",
    "print(check_correct(user_input))"
   ]
  },
  {
   "cell_type": "code",
   "execution_count": 6,
   "id": "8bc17f6e-4025-4c76-b821-98837b60a6f7",
   "metadata": {},
   "outputs": [
    {
     "name": "stdout",
     "output_type": "stream",
     "text": [
      "[('orange', 80), ('mango', 99), ('grapes', 1000)]\n"
     ]
    }
   ],
   "source": [
    "#c. Sort a list of tuples having fruits names and their quantity\n",
    "list_x = [(\"mango\",99),(\"orange\",80),(\"grapes\",1000)]\n",
    "list_x.sort(key=lambda x : x[1])\n",
    "print(list_x)"
   ]
  },
  {
   "cell_type": "code",
   "execution_count": 7,
   "id": "c9f4b206-1a14-4136-9be5-e5b1063e01a9",
   "metadata": {},
   "outputs": [
    {
     "name": "stdout",
     "output_type": "stream",
     "text": [
      "[1, 4, 9, 16, 25, 36, 49, 64, 81, 100]\n"
     ]
    }
   ],
   "source": [
    "#d. Find the squares of number from 1 to 10\n",
    "sq_list = [word**2 for word in range(1,11)]\n",
    "print(sq_list)"
   ]
  },
  {
   "cell_type": "code",
   "execution_count": 8,
   "id": "e26c14a3-3680-4692-9dd3-7678229cd182",
   "metadata": {},
   "outputs": [
    {
     "name": "stdout",
     "output_type": "stream",
     "text": [
      "[1, 8, 27, 64, 125, 216, 343, 512, 729, 1000]\n"
     ]
    }
   ],
   "source": [
    "#e. Find the cube root of number from 1 to 10\n",
    "cube_list = [word**3 for word in range(1,11)]\n",
    "print(cube_list)"
   ]
  },
  {
   "cell_type": "code",
   "execution_count": 9,
   "id": "86950b53-87d4-40bb-8604-088de501ab70",
   "metadata": {},
   "outputs": [
    {
     "name": "stdin",
     "output_type": "stream",
     "text": [
      "Please enter your no.? 4\n"
     ]
    },
    {
     "name": "stdout",
     "output_type": "stream",
     "text": [
      "['True']\n"
     ]
    }
   ],
   "source": [
    "#f. Check if a given number is even\n",
    "user_input = int(input(\"Please enter your no.?\"))\n",
    "new_list = []\n",
    "new_list.append(user_input)\n",
    "result = [ \"True\" for num in new_list if num%2 == 0]\n",
    "print(result)\n",
    "                    "
   ]
  },
  {
   "cell_type": "code",
   "execution_count": 10,
   "id": "f7d99129-aeae-4778-926c-51f2d27d9eeb",
   "metadata": {},
   "outputs": [
    {
     "name": "stdout",
     "output_type": "stream",
     "text": [
      "The list of odd numbers is:  [1, 3, 5, 7, 9]\n"
     ]
    }
   ],
   "source": [
    "#g. Check if a given number is odd\n",
    "num_list = [1,2,3,4,5,6,7,8,9,10]\n",
    "odd = filter(lambda p : p%2 == 1,num_list)\n",
    "print(\"The list of odd numbers is: \",list(odd))"
   ]
  },
  {
   "cell_type": "code",
   "execution_count": null,
   "id": "dd718154-693d-4a4c-9a5c-c610db2dcedd",
   "metadata": {},
   "outputs": [],
   "source": [
    "#h. Sort a list of integers into positive and negative integers lists \n",
    "test_list = [1,2,3,4,5,6,-1,-2,-3,-4,-5,0]\n",
    "list_a = [num for num in test_list if num < 0]\n",
    "list_b = [num for num in test_list if num >= 0]\n",
    "list_a.sort()\n",
    "list_"
   ]
  }
 ],
 "metadata": {
  "kernelspec": {
   "display_name": "Python 3 (ipykernel)",
   "language": "python",
   "name": "python3"
  },
  "language_info": {
   "codemirror_mode": {
    "name": "ipython",
    "version": 3
   },
   "file_extension": ".py",
   "mimetype": "text/x-python",
   "name": "python",
   "nbconvert_exporter": "python",
   "pygments_lexer": "ipython3",
   "version": "3.10.8"
  }
 },
 "nbformat": 4,
 "nbformat_minor": 5
}
